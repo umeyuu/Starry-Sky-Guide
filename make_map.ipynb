{
 "cells": [
  {
   "cell_type": "code",
   "execution_count": 2,
   "id": "77ed37df-08fd-4314-8928-3f186eb42974",
   "metadata": {},
   "outputs": [],
   "source": [
    "import pandas as pd\n",
    "import numpy as np\n",
    "import matplotlib.pyplot as plt"
   ]
  },
  {
   "cell_type": "markdown",
   "id": "b3556a48-3b25-4e38-a462-ee7f00defe35",
   "metadata": {},
   "source": [
    "# 星空マップ作成"
   ]
  },
  {
   "cell_type": "markdown",
   "id": "084ed56a-219b-4afe-ba03-7f2e627acf88",
   "metadata": {},
   "source": [
    "## モデルを実装"
   ]
  },
  {
   "cell_type": "code",
   "execution_count": 3,
   "id": "592e3b08-311a-4081-a563-091a560cc9e1",
   "metadata": {},
   "outputs": [],
   "source": [
    "# 日本全土のNO2,CO,夜間光、標高データ\n",
    "test = pd.read_pickle('data3.pickle')\n",
    "\n",
    "# 令和１年の約400地点のキレイ度とNO2,CO,夜間光、標高データ\n",
    "train = pd.read_pickle('result_R1.pickle')"
   ]
  },
  {
   "cell_type": "code",
   "execution_count": 4,
   "id": "bf951097-c382-46c7-baab-023f8cf4ff3a",
   "metadata": {},
   "outputs": [],
   "source": [
    "# 欠損値を適当な数字で埋める\n",
    "test['light'] = test['light'].fillna(5)\n",
    "test['NO2'] = test['NO2'].fillna(700)\n",
    "test['CO'] = test['CO'].fillna(350000)"
   ]
  },
  {
   "cell_type": "code",
   "execution_count": 5,
   "id": "2ad4a6ad-ed0c-4d80-8faf-4326a6eb1311",
   "metadata": {},
   "outputs": [],
   "source": [
    "# Box-Cox変換\n",
    "from scipy import stats as st\n",
    "\n",
    "train['NO2']=st.boxcox( train['NO2'], lmbda = -2)\n",
    "test['NO2']=st.boxcox( test['NO2'], lmbda = -2)\n",
    "\n",
    "test['標高'] = test['標高'].map(lambda x: 0.1 if x<=0 else x)\n",
    "train['標高']=st.boxcox( train['標高'], lmbda = 0.3)\n",
    "test['標高']=st.boxcox( test['標高'], lmbda = 0.3)\n",
    "\n",
    "test.drop(['緯度','経度'], axis=1, inplace=True)\n",
    "train.drop(['都道府県'],axis=1, inplace=True)"
   ]
  },
  {
   "cell_type": "code",
   "execution_count": 6,
   "id": "8d3b574d-fa9e-489e-9fa7-7a6202531f96",
   "metadata": {},
   "outputs": [],
   "source": [
    "X_train = train.drop(['キレイ度'], axis=1)\n",
    "y_train = train['キレイ度']"
   ]
  },
  {
   "cell_type": "code",
   "execution_count": 7,
   "id": "92abb246-a33d-44ab-b2e4-a73cf5932a82",
   "metadata": {},
   "outputs": [
    {
     "name": "stdout",
     "output_type": "stream",
     "text": [
      "[17:47:15] WARNING: c:\\windows\\temp\\abs_557yfx631l\\croots\\recipe\\xgboost-split_1659548953302\\work\\src\\objective\\regression_obj.cu:188: reg:linear is now deprecated in favor of reg:squarederror.\n",
      "[17:47:15] WARNING: C:\\Windows\\Temp\\abs_557yfx631l\\croots\\recipe\\xgboost-split_1659548953302\\work\\src\\learner.cc:576: \n",
      "Parameters: { \"random_staate\" } might not be used.\n",
      "\n",
      "  This could be a false alarm, with some parameters getting used by language bindings but\n",
      "  then being mistakenly passed down to XGBoost core, or some parameter actually being used\n",
      "  but getting flagged wrongly here. Please open an issue if you find any such cases.\n",
      "\n",
      "\n",
      "0.8099667733479186\n"
     ]
    }
   ],
   "source": [
    "import xgboost as xgb\n",
    "\n",
    "model = xgb.XGBRegressor(booster = 'gbtree',\n",
    "                         objective = 'reg:linear',\n",
    "                         eval_metric = 'rmse',\n",
    "                         random_staate=100,\n",
    "                         learning_rate=0.09,\n",
    "                         n_estimators= 135,\n",
    "                         max_depth = 1,\n",
    "                         min_child_weight = 1,\n",
    "                         colsample_bytree = 1)\n",
    "\n",
    "model.fit(X_train, y_train)\n",
    "y_pred = model.predict(test)\n",
    "\n",
    "print(model.score(X_train,y_train))"
   ]
  },
  {
   "cell_type": "code",
   "execution_count": 8,
   "id": "9c639183-824d-4655-9830-370e3cfb4ffc",
   "metadata": {},
   "outputs": [],
   "source": [
    "test=pd.read_pickle('data3.pickle')\n",
    "map2 = pd.DataFrame([y_pred, test['緯度'], test['経度']]).T"
   ]
  },
  {
   "cell_type": "code",
   "execution_count": 9,
   "id": "2b6faf88-782c-4b30-91f3-9737d3176fa7",
   "metadata": {},
   "outputs": [],
   "source": [
    "map2.columns = ['キレイ度','経度','緯度']"
   ]
  },
  {
   "cell_type": "code",
   "execution_count": 43,
   "id": "114e1d8e-3cf9-421a-8181-e5cd1a281b67",
   "metadata": {},
   "outputs": [
    {
     "data": {
      "text/html": [
       "<div>\n",
       "<style scoped>\n",
       "    .dataframe tbody tr th:only-of-type {\n",
       "        vertical-align: middle;\n",
       "    }\n",
       "\n",
       "    .dataframe tbody tr th {\n",
       "        vertical-align: top;\n",
       "    }\n",
       "\n",
       "    .dataframe thead th {\n",
       "        text-align: right;\n",
       "    }\n",
       "</style>\n",
       "<table border=\"1\" class=\"dataframe\">\n",
       "  <thead>\n",
       "    <tr style=\"text-align: right;\">\n",
       "      <th></th>\n",
       "      <th>キレイ度</th>\n",
       "      <th>経度</th>\n",
       "      <th>緯度</th>\n",
       "    </tr>\n",
       "  </thead>\n",
       "  <tbody>\n",
       "    <tr>\n",
       "      <th>0</th>\n",
       "      <td>20.916517</td>\n",
       "      <td>123.750000</td>\n",
       "      <td>24.447150</td>\n",
       "    </tr>\n",
       "    <tr>\n",
       "      <th>1</th>\n",
       "      <td>21.043055</td>\n",
       "      <td>123.750000</td>\n",
       "      <td>24.407138</td>\n",
       "    </tr>\n",
       "    <tr>\n",
       "      <th>2</th>\n",
       "      <td>21.493176</td>\n",
       "      <td>123.750000</td>\n",
       "      <td>24.367114</td>\n",
       "    </tr>\n",
       "    <tr>\n",
       "      <th>3</th>\n",
       "      <td>21.223362</td>\n",
       "      <td>123.750000</td>\n",
       "      <td>24.327077</td>\n",
       "    </tr>\n",
       "    <tr>\n",
       "      <th>4</th>\n",
       "      <td>21.493176</td>\n",
       "      <td>123.750000</td>\n",
       "      <td>24.287027</td>\n",
       "    </tr>\n",
       "    <tr>\n",
       "      <th>...</th>\n",
       "      <td>...</td>\n",
       "      <td>...</td>\n",
       "      <td>...</td>\n",
       "    </tr>\n",
       "    <tr>\n",
       "      <th>28371</th>\n",
       "      <td>21.159508</td>\n",
       "      <td>148.842773</td>\n",
       "      <td>45.490946</td>\n",
       "    </tr>\n",
       "    <tr>\n",
       "      <th>28372</th>\n",
       "      <td>21.106068</td>\n",
       "      <td>148.842773</td>\n",
       "      <td>45.429299</td>\n",
       "    </tr>\n",
       "    <tr>\n",
       "      <th>28373</th>\n",
       "      <td>21.159508</td>\n",
       "      <td>148.842773</td>\n",
       "      <td>45.398450</td>\n",
       "    </tr>\n",
       "    <tr>\n",
       "      <th>28374</th>\n",
       "      <td>20.955267</td>\n",
       "      <td>148.842773</td>\n",
       "      <td>45.367584</td>\n",
       "    </tr>\n",
       "    <tr>\n",
       "      <th>28375</th>\n",
       "      <td>20.916517</td>\n",
       "      <td>148.886719</td>\n",
       "      <td>45.521744</td>\n",
       "    </tr>\n",
       "  </tbody>\n",
       "</table>\n",
       "<p>28376 rows × 3 columns</p>\n",
       "</div>"
      ],
      "text/plain": [
       "            キレイ度          経度         緯度\n",
       "0      20.916517  123.750000  24.447150\n",
       "1      21.043055  123.750000  24.407138\n",
       "2      21.493176  123.750000  24.367114\n",
       "3      21.223362  123.750000  24.327077\n",
       "4      21.493176  123.750000  24.287027\n",
       "...          ...         ...        ...\n",
       "28371  21.159508  148.842773  45.490946\n",
       "28372  21.106068  148.842773  45.429299\n",
       "28373  21.159508  148.842773  45.398450\n",
       "28374  20.955267  148.842773  45.367584\n",
       "28375  20.916517  148.886719  45.521744\n",
       "\n",
       "[28376 rows x 3 columns]"
      ]
     },
     "execution_count": 43,
     "metadata": {},
     "output_type": "execute_result"
    }
   ],
   "source": [
    "map2"
   ]
  },
  {
   "cell_type": "code",
   "execution_count": 12,
   "id": "c7daed21-b81a-450c-8f75-1e7ee9213e75",
   "metadata": {},
   "outputs": [
    {
     "name": "stderr",
     "output_type": "stream",
     "text": [
      "C:\\Users\\umeyu\\anaconda3\\lib\\site-packages\\matplotlib\\backends\\backend_agg.py:240: RuntimeWarning: Glyph 32076 missing from current font.\n",
      "  font.set_text(s, 0.0, flags=flags)\n",
      "C:\\Users\\umeyu\\anaconda3\\lib\\site-packages\\matplotlib\\backends\\backend_agg.py:240: RuntimeWarning: Glyph 24230 missing from current font.\n",
      "  font.set_text(s, 0.0, flags=flags)\n",
      "C:\\Users\\umeyu\\anaconda3\\lib\\site-packages\\matplotlib\\backends\\backend_agg.py:240: RuntimeWarning: Glyph 32239 missing from current font.\n",
      "  font.set_text(s, 0.0, flags=flags)\n",
      "C:\\Users\\umeyu\\anaconda3\\lib\\site-packages\\matplotlib\\backends\\backend_agg.py:203: RuntimeWarning: Glyph 32076 missing from current font.\n",
      "  font.set_text(s, 0, flags=flags)\n",
      "C:\\Users\\umeyu\\anaconda3\\lib\\site-packages\\matplotlib\\backends\\backend_agg.py:203: RuntimeWarning: Glyph 24230 missing from current font.\n",
      "  font.set_text(s, 0, flags=flags)\n",
      "C:\\Users\\umeyu\\anaconda3\\lib\\site-packages\\matplotlib\\backends\\backend_agg.py:203: RuntimeWarning: Glyph 32239 missing from current font.\n",
      "  font.set_text(s, 0, flags=flags)\n"
     ]
    },
    {
     "data": {
      "image/png": "[encoded data removed]",
      "text/plain": [
       "<Figure size 432x288 with 2 Axes>"
      ]
     },
     "metadata": {
      "needs_background": "light"
     },
     "output_type": "display_data"
    }
   ],
   "source": [
    "import seaborn as sns\n",
    "\n",
    "df_flights_pivot2 = pd.pivot_table(data=map2, values='キレイ度', \n",
    "                                  columns='経度', index='緯度', aggfunc=np.mean)\n",
    "\n",
    "ax2 = sns.heatmap(df_flights_pivot2, xticklabels=200, yticklabels=200)\n",
    "ax2.invert_yaxis()"
   ]
  },
  {
   "cell_type": "code",
   "execution_count": null,
   "id": "55e9ece5-9534-4866-9fbd-0ffaf78327b1",
   "metadata": {},
   "outputs": [],
   "source": [
    "map2.to_pickle('data4.pickle')"
   ]
  },
  {
   "cell_type": "markdown",
   "id": "d57e7bdf-a5a7-469b-aec7-a85df936d988",
   "metadata": {},
   "source": [
    "## geojsonファイルを作成"
   ]
  },
  {
   "cell_type": "code",
   "execution_count": 41,
   "id": "2a876a7c-3171-4e66-9a31-9b63177a6009",
   "metadata": {},
   "outputs": [],
   "source": [
    "# 日本全土のキレイ度と緯度経度データ\n",
    "data = pd.read_pickle('data4.pickle')"
   ]
  },
  {
   "cell_type": "code",
   "execution_count": 91,
   "id": "5c70a3a6-ce88-46ca-b5f6-bdebcd719104",
   "metadata": {},
   "outputs": [
    {
     "data": {
      "text/html": [
       "<div>\n",
       "<style scoped>\n",
       "    .dataframe tbody tr th:only-of-type {\n",
       "        vertical-align: middle;\n",
       "    }\n",
       "\n",
       "    .dataframe tbody tr th {\n",
       "        vertical-align: top;\n",
       "    }\n",
       "\n",
       "    .dataframe thead th {\n",
       "        text-align: right;\n",
       "    }\n",
       "</style>\n",
       "<table border=\"1\" class=\"dataframe\">\n",
       "  <thead>\n",
       "    <tr style=\"text-align: right;\">\n",
       "      <th></th>\n",
       "      <th>キレイ度</th>\n",
       "      <th>経度</th>\n",
       "      <th>緯度</th>\n",
       "    </tr>\n",
       "  </thead>\n",
       "  <tbody>\n",
       "    <tr>\n",
       "      <th>0</th>\n",
       "      <td>20.804956</td>\n",
       "      <td>123.750000</td>\n",
       "      <td>24.447150</td>\n",
       "    </tr>\n",
       "    <tr>\n",
       "      <th>1</th>\n",
       "      <td>20.981321</td>\n",
       "      <td>123.750000</td>\n",
       "      <td>24.407138</td>\n",
       "    </tr>\n",
       "    <tr>\n",
       "      <th>2</th>\n",
       "      <td>21.637159</td>\n",
       "      <td>123.750000</td>\n",
       "      <td>24.367114</td>\n",
       "    </tr>\n",
       "    <tr>\n",
       "      <th>3</th>\n",
       "      <td>21.106865</td>\n",
       "      <td>123.750000</td>\n",
       "      <td>24.327077</td>\n",
       "    </tr>\n",
       "    <tr>\n",
       "      <th>4</th>\n",
       "      <td>21.637159</td>\n",
       "      <td>123.750000</td>\n",
       "      <td>24.287027</td>\n",
       "    </tr>\n",
       "    <tr>\n",
       "      <th>...</th>\n",
       "      <td>...</td>\n",
       "      <td>...</td>\n",
       "      <td>...</td>\n",
       "    </tr>\n",
       "    <tr>\n",
       "      <th>33</th>\n",
       "      <td>20.682028</td>\n",
       "      <td>139.965820</td>\n",
       "      <td>39.943436</td>\n",
       "    </tr>\n",
       "    <tr>\n",
       "      <th>34</th>\n",
       "      <td>20.257517</td>\n",
       "      <td>140.009766</td>\n",
       "      <td>40.078071</td>\n",
       "    </tr>\n",
       "    <tr>\n",
       "      <th>35</th>\n",
       "      <td>20.506737</td>\n",
       "      <td>140.009766</td>\n",
       "      <td>40.044438</td>\n",
       "    </tr>\n",
       "    <tr>\n",
       "      <th>36</th>\n",
       "      <td>20.506737</td>\n",
       "      <td>140.009766</td>\n",
       "      <td>40.010787</td>\n",
       "    </tr>\n",
       "    <tr>\n",
       "      <th>37</th>\n",
       "      <td>20.682028</td>\n",
       "      <td>140.009766</td>\n",
       "      <td>39.977120</td>\n",
       "    </tr>\n",
       "  </tbody>\n",
       "</table>\n",
       "<p>28414 rows × 3 columns</p>\n",
       "</div>"
      ],
      "text/plain": [
       "         キレイ度          経度         緯度\n",
       "0   20.804956  123.750000  24.447150\n",
       "1   20.981321  123.750000  24.407138\n",
       "2   21.637159  123.750000  24.367114\n",
       "3   21.106865  123.750000  24.327077\n",
       "4   21.637159  123.750000  24.287027\n",
       "..        ...         ...        ...\n",
       "33  20.682028  139.965820  39.943436\n",
       "34  20.257517  140.009766  40.078071\n",
       "35  20.506737  140.009766  40.044438\n",
       "36  20.506737  140.009766  40.010787\n",
       "37  20.682028  140.009766  39.977120\n",
       "\n",
       "[28414 rows x 3 columns]"
      ]
     },
     "execution_count": 91,
     "metadata": {},
     "output_type": "execute_result"
    }
   ],
   "source": [
    "data"
   ]
  },
  {
   "cell_type": "code",
   "execution_count": 92,
   "id": "4b3c360e-d773-4830-9736-08ad5563787b",
   "metadata": {},
   "outputs": [],
   "source": [
    "ido = data['緯度']\n",
    "keido = data['経度']\n",
    "kirei = data['キレイ度']"
   ]
  },
  {
   "cell_type": "code",
   "execution_count": 93,
   "id": "87c9cb34-0b59-485b-856e-138bb33d8839",
   "metadata": {},
   "outputs": [],
   "source": [
    "# 行を緯度、列を経度にしたからのデータフレームを作成\n",
    "b = [[0.0]*len(keido.unique())]*len(ido.unique())\n",
    "a = pd.DataFrame(b)\n",
    "a.index = np.sort(ido.unique())[::-1]\n",
    "a.columns = np.sort(keido.unique())"
   ]
  },
  {
   "cell_type": "code",
   "execution_count": 94,
   "id": "17d562a9-cb41-43ec-8461-04badb99dd2d",
   "metadata": {},
   "outputs": [
    {
     "data": {
      "application/vnd.jupyter.widget-view+json": {
       "model_id": "3cc3fbb8c2874dd49c239b7ae146dc39",
       "version_major": 2,
       "version_minor": 0
      },
      "text/plain": [
       "0it [00:00, ?it/s]"
      ]
     },
     "metadata": {},
     "output_type": "display_data"
    }
   ],
   "source": [
    "# 空のデータフレームにキレイ度を入れる\n",
    "from tqdm.notebook import tqdm\n",
    "\n",
    "for x, y, c in tqdm(zip(ido, keido, kirei)):\n",
    "    a.loc[x][y]=c"
   ]
  },
  {
   "cell_type": "code",
   "execution_count": 96,
   "id": "96780afa-09b7-49db-8394-5d2ec62db1bc",
   "metadata": {},
   "outputs": [],
   "source": [
    "old_col = a.columns"
   ]
  },
  {
   "cell_type": "code",
   "execution_count": 97,
   "id": "455570a3-fa7a-4378-b0a7-733305292ca1",
   "metadata": {},
   "outputs": [],
   "source": [
    "# マップの謎のずれ修正\n",
    "new_col = []\n",
    "\n",
    "for i, col in enumerate(old_col):\n",
    "    if i != 0:\n",
    "        new_col.append(col)"
   ]
  },
  {
   "cell_type": "code",
   "execution_count": 98,
   "id": "e78cf718-9382-451a-9591-bca20ced18d1",
   "metadata": {},
   "outputs": [],
   "source": [
    "new_col.append(new_col[-1]-new_col[-2]+new_col[-1])"
   ]
  },
  {
   "cell_type": "code",
   "execution_count": 99,
   "id": "2b623518-5558-435f-966a-cc0b656b3b34",
   "metadata": {},
   "outputs": [],
   "source": [
    "a.columns = new_col"
   ]
  },
  {
   "cell_type": "code",
   "execution_count": 101,
   "id": "03c2c6b6-f828-4b60-95b8-2be6b1b6e472",
   "metadata": {},
   "outputs": [
    {
     "data": {
      "application/vnd.jupyter.widget-view+json": {
       "model_id": "cde761edc0c34a7b8070ffc2696fb9d0",
       "version_major": 2,
       "version_minor": 0
      },
      "text/plain": [
       "  0%|          | 0/528 [00:00<?, ?it/s]"
      ]
     },
     "metadata": {},
     "output_type": "display_data"
    },
    {
     "name": "stderr",
     "output_type": "stream",
     "text": [
      "C:\\Users\\umeyu\\AppData\\Local\\Temp/ipykernel_11156/773245935.py:25: RuntimeWarning: invalid value encountered in double_scalars\n",
      "  v = (down + right + dr + my)/len(l)\n"
     ]
    }
   ],
   "source": [
    "# 点データを面データに変換\n",
    "k = a.columns\n",
    "j = a.index\n",
    "geo = []\n",
    "pro = []\n",
    "\n",
    "for i in tqdm(range(len(k)-1)):\n",
    "    for z in range(len(j)-1):\n",
    "        \n",
    "        my = a[k[i]][j[z]]\n",
    "        down = a[k[i]][j[z+1]]\n",
    "        right = a[k[i+1]][j[z]]\n",
    "        dr = a[k[i+1]][j[z+1]]\n",
    "\n",
    "        l = []\n",
    "        if my != 0:\n",
    "            l.append([k[i], j[z]])\n",
    "        if right != 0:\n",
    "            l.append([k[i+1], j[z]])\n",
    "        if dr != 0:\n",
    "            l.append([k[i+1], j[z+1]])\n",
    "        if down != 0:\n",
    "            l.append([k[i], j[z+1]])\n",
    "        \n",
    "        v = (down + right + dr + my)/len(l)\n",
    "\n",
    "        if len(l)>=3:\n",
    "            geo.append(l)\n",
    "            pro.append(v)"
   ]
  },
  {
   "cell_type": "code",
   "execution_count": 103,
   "id": "b922a2e7-d034-410f-b337-cdc0d4e55e53",
   "metadata": {},
   "outputs": [],
   "source": [
    "# geojsonファイルを作成\n",
    "import csv, json\n",
    "from geojson import Feature, FeatureCollection, Polygon\n",
    "\n",
    "features = []\n",
    "\n",
    "for g, c in zip(geo, pro):\n",
    "    features.append(\n",
    "        Feature(\n",
    "            geometry = Polygon([g]),\n",
    "            properties = {\n",
    "                'clean': c\n",
    "            }\n",
    "        )\n",
    "    )\n",
    "\n",
    "collection = FeatureCollection(features)\n",
    "with open(\"data_polygon3.json\", \"w\") as f:\n",
    "    f.write('%s' % collection)"
   ]
  },
  {
   "cell_type": "code",
   "execution_count": null,
   "id": "88da3f7f-ad70-4bb9-9b34-ae755627aa85",
   "metadata": {},
   "outputs": [],
   "source": []
  }
 ],
 "metadata": {
  "kernelspec": {
   "display_name": "Python 3 (ipykernel)",
   "language": "python",
   "name": "python3"
  },
  "language_info": {
   "codemirror_mode": {
    "name": "ipython",
    "version": 3
   },
   "file_extension": ".py",
   "mimetype": "text/x-python",
   "name": "python",
   "nbconvert_exporter": "python",
   "pygments_lexer": "ipython3",
   "version": "3.9.7"
  }
 },
 "nbformat": 4,
 "nbformat_minor": 5
}
